{
 "cells": [
  {
   "cell_type": "code",
   "execution_count": 1,
   "metadata": {},
   "outputs": [],
   "source": [
    "## 15 - August - 2023"
   ]
  },
  {
   "cell_type": "code",
   "execution_count": 2,
   "metadata": {},
   "outputs": [],
   "source": [
    "# ! instructs notebook to treat command as a shell command\n",
    "# !pip install pybaseball"
   ]
  },
  {
   "cell_type": "code",
   "execution_count": 3,
   "metadata": {},
   "outputs": [],
   "source": [
    "from pybaseball import batting_stats\n",
    "import numpy as np\n",
    "import os\n",
    "import pandas as pd"
   ]
  },
  {
   "cell_type": "code",
   "execution_count": 4,
   "metadata": {},
   "outputs": [],
   "source": [
    "# stats_DataFrame = batting_stats(2004, 2023, qual=200)"
   ]
  },
  {
   "cell_type": "code",
   "execution_count": 5,
   "metadata": {},
   "outputs": [],
   "source": [
    "# stats_DataFrame.to_csv('../Data/stats_DataFrame.csv', index=False)"
   ]
  },
  {
   "cell_type": "code",
   "execution_count": 6,
   "metadata": {},
   "outputs": [],
   "source": [
    "stats_DataFrame = pd.read_csv('Data/stats_DataFrame.csv')"
   ]
  },
  {
   "cell_type": "code",
   "execution_count": 7,
   "metadata": {},
   "outputs": [],
   "source": [
    "stats_DataFrame = stats_DataFrame.groupby('IDfg', group_keys=False).filter(lambda group: group.shape[0] > 1)"
   ]
  },
  {
   "cell_type": "code",
   "execution_count": 8,
   "metadata": {},
   "outputs": [],
   "source": [
    "def war_shifter(players_group):\n",
    "    players_group = players_group.sort_values('Season')\n",
    "    players_group['Next_season_WAR'] = players_group['WAR'].shift(-1)\n",
    "    return players_group"
   ]
  },
  {
   "cell_type": "code",
   "execution_count": 9,
   "metadata": {},
   "outputs": [],
   "source": [
    "stats_DataFrame = stats_DataFrame.groupby('IDfg', group_keys=False).apply(war_shifter)"
   ]
  },
  {
   "cell_type": "code",
   "execution_count": 10,
   "metadata": {},
   "outputs": [],
   "source": [
    "null_values_count_series = stats_DataFrame.isnull().sum()\n",
    "full_columns_series = null_values_count_series[null_values_count_series == 0]\n",
    "stats_DataFrame = stats_DataFrame[list(full_columns_series.index) + ['Next_season_WAR']].copy()"
   ]
  },
  {
   "cell_type": "code",
   "execution_count": 11,
   "metadata": {},
   "outputs": [
    {
     "data": {
      "text/plain": [
       "['Name', 'Team', 'Dol', 'Age Rng']"
      ]
     },
     "execution_count": 11,
     "metadata": {},
     "output_type": "execute_result"
    }
   ],
   "source": [
    "list(stats_DataFrame.dtypes[stats_DataFrame.dtypes == 'object'].index)"
   ]
  },
  {
   "cell_type": "code",
   "execution_count": 12,
   "metadata": {},
   "outputs": [],
   "source": [
    "def birthday_finder(players_age_range):\n",
    "    ages = players_age_range.replace(' ', '').split('-')\n",
    "    if ages[0] != ages[1]:\n",
    "        return 1\n",
    "    else:\n",
    "        return 0"
   ]
  },
  {
   "cell_type": "code",
   "execution_count": 13,
   "metadata": {},
   "outputs": [],
   "source": [
    "stats_DataFrame['Birthday_during_season'] = stats_DataFrame['Age Rng'].apply(birthday_finder)"
   ]
  },
  {
   "cell_type": "code",
   "execution_count": 14,
   "metadata": {},
   "outputs": [],
   "source": [
    "# 'Age Rng' appears to not capture whether a player's birthday occurred during the season\n",
    "stats_DataFrame = stats_DataFrame.drop(['Age Rng', 'Dol', 'Birthday_during_season'], axis=1)"
   ]
  },
  {
   "cell_type": "code",
   "execution_count": 15,
   "metadata": {},
   "outputs": [],
   "source": [
    "stats_DataFrame['Team_code'] = stats_DataFrame['Team'].astype('category').cat.codes"
   ]
  },
  {
   "cell_type": "code",
   "execution_count": 16,
   "metadata": {},
   "outputs": [],
   "source": [
    "stats_DataFrame_column_headers = list(stats_DataFrame.columns)\n",
    "stats_DataFrame_column_headers = (stats_DataFrame_column_headers[:4] +\n",
    "                                 [stats_DataFrame_column_headers[-1]] +\n",
    "                                  stats_DataFrame_column_headers[4:-1])\n",
    "stats_DataFrame = stats_DataFrame[stats_DataFrame_column_headers]"
   ]
  },
  {
   "cell_type": "code",
   "execution_count": 17,
   "metadata": {},
   "outputs": [],
   "source": [
    "entire_stats_DataFrame = stats_DataFrame.copy()"
   ]
  },
  {
   "cell_type": "code",
   "execution_count": 18,
   "metadata": {},
   "outputs": [],
   "source": [
    "stats_DataFrame = stats_DataFrame.dropna()"
   ]
  },
  {
   "cell_type": "code",
   "execution_count": 19,
   "metadata": {},
   "outputs": [],
   "source": [
    "stats_DataFrame.to_csv('Data/stats_DataFrame_updated.csv', index=False)"
   ]
  }
 ],
 "metadata": {
  "kernelspec": {
   "display_name": "Python 3",
   "language": "python",
   "name": "python3"
  },
  "language_info": {
   "codemirror_mode": {
    "name": "ipython",
    "version": 3
   },
   "file_extension": ".py",
   "mimetype": "text/x-python",
   "name": "python",
   "nbconvert_exporter": "python",
   "pygments_lexer": "ipython3",
   "version": "3.8.5"
  }
 },
 "nbformat": 4,
 "nbformat_minor": 4
}
