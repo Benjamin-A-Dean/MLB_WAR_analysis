{
 "cells": [
  {
   "cell_type": "code",
   "execution_count": 1,
   "metadata": {},
   "outputs": [],
   "source": [
    "## 17 - August - 2023"
   ]
  },
  {
   "cell_type": "code",
   "execution_count": 2,
   "metadata": {},
   "outputs": [],
   "source": [
    "from sklearn.feature_selection import SequentialFeatureSelector\n",
    "from sklearn.linear_model import Ridge\n",
    "from sklearn.metrics import mean_squared_error\n",
    "from sklearn.model_selection import TimeSeriesSplit\n",
    "from sklearn.preprocessing import MinMaxScaler\n",
    "import pandas as pd"
   ]
  },
  {
   "cell_type": "code",
   "execution_count": 3,
   "metadata": {},
   "outputs": [],
   "source": [
    "stats_DataFrame = pd.read_csv('Data/stats_DataFrame_updated.csv')"
   ]
  },
  {
   "cell_type": "code",
   "execution_count": 4,
   "metadata": {},
   "outputs": [],
   "source": [
    "regression_instance = Ridge(alpha=1)\n",
    "split_instance = TimeSeriesSplit(n_splits=3)\n",
    "sequential_feature_selector_instance = SequentialFeatureSelector(regression_instance, n_features_to_select=20,\n",
    "                                                                 direction='forward', cv=split_instance, n_jobs=2)"
   ]
  },
  {
   "cell_type": "code",
   "execution_count": 5,
   "metadata": {},
   "outputs": [],
   "source": [
    "target_column = 'Next_season_WAR'\n",
    "text_columns = ['Name', 'Team']\n",
    "meta_data_columns = ['IDfg', 'Season']\n",
    "\n",
    "keeper_columns = stats_DataFrame.columns[~stats_DataFrame.columns.isin([target_column] + text_columns + meta_data_columns)]"
   ]
  },
  {
   "cell_type": "code",
   "execution_count": 6,
   "metadata": {},
   "outputs": [],
   "source": [
    "scaler_instance = MinMaxScaler()\n",
    "stats_DataFrame.loc[:, keeper_columns] = scaler_instance.fit_transform(stats_DataFrame[keeper_columns])"
   ]
  },
  {
   "cell_type": "code",
   "execution_count": 7,
   "metadata": {},
   "outputs": [
    {
     "data": {
      "text/plain": [
       "SequentialFeatureSelector(cv=TimeSeriesSplit(gap=0, max_train_size=None, n_splits=3, test_size=None),\n",
       "                          estimator=Ridge(alpha=1), n_features_to_select=20,\n",
       "                          n_jobs=2)"
      ]
     },
     "execution_count": 7,
     "metadata": {},
     "output_type": "execute_result"
    }
   ],
   "source": [
    "sequential_feature_selector_instance.fit(stats_DataFrame[keeper_columns], stats_DataFrame['Next_season_WAR'])"
   ]
  },
  {
   "cell_type": "code",
   "execution_count": 8,
   "metadata": {},
   "outputs": [],
   "source": [
    "optimal_features = list(keeper_columns[sequential_feature_selector_instance.get_support()])"
   ]
  },
  {
   "cell_type": "code",
   "execution_count": 9,
   "metadata": {},
   "outputs": [],
   "source": [
    "def backtest(stats, model_instance, features, start=5, step=1):\n",
    "    WAR_predictions = []\n",
    "    seasons = sorted(stats['Season'].unique())\n",
    "    for iteration in range(start,len(seasons),step):\n",
    "        current_season = seasons[iteration]\n",
    "        training_data = stats[stats['Season'] < current_season]\n",
    "        testing_data = stats[stats['Season'] == current_season]\n",
    "        \n",
    "        model_instance.fit(training_data[features], training_data['Next_season_WAR'])\n",
    "        next_season_WAR_predictions = model_instance.predict(testing_data[features])\n",
    "        \n",
    "        next_season_WAR_predictions = pd.Series(next_season_WAR_predictions, index=testing_data.index)\n",
    "        actual_and_predicted_WAR = pd.concat([testing_data['Next_season_WAR'], next_season_WAR_predictions], axis=1)\n",
    "        actual_and_predicted_WAR.columns = ['actual_next_season_WAR', 'predicted_next_season_WAR']\n",
    "        WAR_predictions.append(actual_and_predicted_WAR)\n",
    "    return pd.concat(WAR_predictions)"
   ]
  },
  {
   "cell_type": "code",
   "execution_count": 10,
   "metadata": {},
   "outputs": [],
   "source": [
    "WAR_predictions_DataFrame = backtest(stats_DataFrame, regression_instance, optimal_features)"
   ]
  },
  {
   "cell_type": "code",
   "execution_count": 11,
   "metadata": {},
   "outputs": [],
   "source": [
    "model_error = mean_squared_error(WAR_predictions_DataFrame['actual_next_season_WAR'],\n",
    "                                 WAR_predictions_DataFrame['predicted_next_season_WAR']) ** 0.5"
   ]
  },
  {
   "cell_type": "code",
   "execution_count": 12,
   "metadata": {},
   "outputs": [
    {
     "name": "stdout",
     "output_type": "stream",
     "text": [
      "The error for our initial regression model is 1.6408451058026605\n"
     ]
    }
   ],
   "source": [
    "print(f'The error for our initial regression model is {model_error}')"
   ]
  },
  {
   "cell_type": "code",
   "execution_count": 13,
   "metadata": {},
   "outputs": [],
   "source": [
    "def players_WAR_trend(players_group):\n",
    "    players_group = players_group.sort_values('Season')\n",
    "    players_group['Seasons_in_MLB'] = range(1, players_group.shape[0]+1)\n",
    "    \n",
    "    correlations = (players_group[['Seasons_in_MLB', 'WAR']].expanding()\n",
    "                                                            .corr()\n",
    "                                                            .loc[(slice(None), 'Seasons_in_MLB'), 'WAR'])\n",
    "    players_group['WAR_and_season_correlation'] = list(correlations.fillna(1))\n",
    "    \n",
    "    players_group['WAR_movement'] = players_group['WAR'] / players_group['WAR'].shift(1)\n",
    "    players_group['WAR_movement'] = players_group['WAR_movement'].fillna(1)\n",
    "    \n",
    "    return players_group"
   ]
  },
  {
   "cell_type": "code",
   "execution_count": 14,
   "metadata": {},
   "outputs": [],
   "source": [
    "stats_DataFrame = stats_DataFrame.groupby('IDfg', group_keys=False).apply(players_WAR_trend)"
   ]
  }
 ],
 "metadata": {
  "kernelspec": {
   "display_name": "Python 3",
   "language": "python",
   "name": "python3"
  },
  "language_info": {
   "codemirror_mode": {
    "name": "ipython",
    "version": 3
   },
   "file_extension": ".py",
   "mimetype": "text/x-python",
   "name": "python",
   "nbconvert_exporter": "python",
   "pygments_lexer": "ipython3",
   "version": "3.8.5"
  }
 },
 "nbformat": 4,
 "nbformat_minor": 4
}
