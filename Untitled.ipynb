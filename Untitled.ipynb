{
 "cells": [
  {
   "cell_type": "code",
   "execution_count": 1,
   "metadata": {},
   "outputs": [],
   "source": [
    "## 15 - August - 2023"
   ]
  },
  {
   "cell_type": "code",
   "execution_count": 2,
   "metadata": {},
   "outputs": [],
   "source": [
    "# ! instructs notebook to treat command as a shell command\n",
    "# !pip install pybaseball"
   ]
  },
  {
   "cell_type": "code",
   "execution_count": 3,
   "metadata": {},
   "outputs": [],
   "source": [
    "from pybaseball import batting_stats\n",
    "import numpy as np\n",
    "import os\n",
    "import pandas as pd"
   ]
  },
  {
   "cell_type": "code",
   "execution_count": 4,
   "metadata": {},
   "outputs": [],
   "source": [
    "# stats_DataFrame = batting_stats(2004, 2023, qual=200)"
   ]
  },
  {
   "cell_type": "code",
   "execution_count": 5,
   "metadata": {},
   "outputs": [],
   "source": [
    "# stats_DataFrame.to_csv('../Data/stats_DataFrame.csv', index=False)"
   ]
  },
  {
   "cell_type": "code",
   "execution_count": 6,
   "metadata": {},
   "outputs": [],
   "source": [
    "stats_DataFrame = pd.read_csv('../Data/stats_DataFrame.csv')"
   ]
  },
  {
   "cell_type": "code",
   "execution_count": 7,
   "metadata": {},
   "outputs": [],
   "source": [
    "stats_DataFrame = stats_DataFrame.groupby('IDfg', group_keys=False).filter(lambda group: group.shape[0] > 1)"
   ]
  },
  {
   "cell_type": "code",
   "execution_count": 8,
   "metadata": {},
   "outputs": [],
   "source": [
    "def war_shifter(players_group):\n",
    "    players_group = players_group.sort_values('Season')\n",
    "    players_group['next_season_WAR'] = players_group['WAR'].shift(-1)\n",
    "    return players_group"
   ]
  },
  {
   "cell_type": "code",
   "execution_count": 9,
   "metadata": {},
   "outputs": [],
   "source": [
    "stats_DataFrame = stats_DataFrame.groupby('IDfg', group_keys=False).apply(war_shifter)"
   ]
  },
  {
   "cell_type": "code",
   "execution_count": 10,
   "metadata": {},
   "outputs": [
    {
     "data": {
      "text/html": [
       "<div>\n",
       "<style scoped>\n",
       "    .dataframe tbody tr th:only-of-type {\n",
       "        vertical-align: middle;\n",
       "    }\n",
       "\n",
       "    .dataframe tbody tr th {\n",
       "        vertical-align: top;\n",
       "    }\n",
       "\n",
       "    .dataframe thead th {\n",
       "        text-align: right;\n",
       "    }\n",
       "</style>\n",
       "<table border=\"1\" class=\"dataframe\">\n",
       "  <thead>\n",
       "    <tr style=\"text-align: right;\">\n",
       "      <th></th>\n",
       "      <th>IDfg</th>\n",
       "      <th>Season</th>\n",
       "      <th>Name</th>\n",
       "      <th>Team</th>\n",
       "      <th>Age</th>\n",
       "      <th>G</th>\n",
       "      <th>AB</th>\n",
       "      <th>PA</th>\n",
       "      <th>H</th>\n",
       "      <th>1B</th>\n",
       "      <th>...</th>\n",
       "      <th>HardHit</th>\n",
       "      <th>HardHit%</th>\n",
       "      <th>Events</th>\n",
       "      <th>CStr%</th>\n",
       "      <th>CSW%</th>\n",
       "      <th>xBA</th>\n",
       "      <th>xSLG</th>\n",
       "      <th>xwOBA</th>\n",
       "      <th>L-WAR</th>\n",
       "      <th>next_season_WAR</th>\n",
       "    </tr>\n",
       "  </thead>\n",
       "  <tbody>\n",
       "    <tr>\n",
       "      <th>3762</th>\n",
       "      <td>1</td>\n",
       "      <td>2006</td>\n",
       "      <td>Alfredo Amezaga</td>\n",
       "      <td>FLA</td>\n",
       "      <td>28</td>\n",
       "      <td>132</td>\n",
       "      <td>334</td>\n",
       "      <td>378</td>\n",
       "      <td>87</td>\n",
       "      <td>72</td>\n",
       "      <td>...</td>\n",
       "      <td>NaN</td>\n",
       "      <td>NaN</td>\n",
       "      <td>0</td>\n",
       "      <td>0.188</td>\n",
       "      <td>0.256</td>\n",
       "      <td>NaN</td>\n",
       "      <td>NaN</td>\n",
       "      <td>NaN</td>\n",
       "      <td>1.1</td>\n",
       "      <td>2.0</td>\n",
       "    </tr>\n",
       "    <tr>\n",
       "      <th>2457</th>\n",
       "      <td>1</td>\n",
       "      <td>2007</td>\n",
       "      <td>Alfredo Amezaga</td>\n",
       "      <td>FLA</td>\n",
       "      <td>29</td>\n",
       "      <td>133</td>\n",
       "      <td>400</td>\n",
       "      <td>448</td>\n",
       "      <td>105</td>\n",
       "      <td>80</td>\n",
       "      <td>...</td>\n",
       "      <td>0.0</td>\n",
       "      <td>NaN</td>\n",
       "      <td>0</td>\n",
       "      <td>0.175</td>\n",
       "      <td>0.227</td>\n",
       "      <td>NaN</td>\n",
       "      <td>NaN</td>\n",
       "      <td>NaN</td>\n",
       "      <td>2.0</td>\n",
       "      <td>1.2</td>\n",
       "    </tr>\n",
       "    <tr>\n",
       "      <th>3590</th>\n",
       "      <td>1</td>\n",
       "      <td>2008</td>\n",
       "      <td>Alfredo Amezaga</td>\n",
       "      <td>FLA</td>\n",
       "      <td>30</td>\n",
       "      <td>125</td>\n",
       "      <td>311</td>\n",
       "      <td>337</td>\n",
       "      <td>82</td>\n",
       "      <td>61</td>\n",
       "      <td>...</td>\n",
       "      <td>0.0</td>\n",
       "      <td>NaN</td>\n",
       "      <td>0</td>\n",
       "      <td>0.178</td>\n",
       "      <td>0.244</td>\n",
       "      <td>NaN</td>\n",
       "      <td>NaN</td>\n",
       "      <td>NaN</td>\n",
       "      <td>1.2</td>\n",
       "      <td>NaN</td>\n",
       "    </tr>\n",
       "  </tbody>\n",
       "</table>\n",
       "<p>3 rows × 321 columns</p>\n",
       "</div>"
      ],
      "text/plain": [
       "      IDfg  Season             Name Team  Age    G   AB   PA    H  1B  ...  \\\n",
       "3762     1    2006  Alfredo Amezaga  FLA   28  132  334  378   87  72  ...   \n",
       "2457     1    2007  Alfredo Amezaga  FLA   29  133  400  448  105  80  ...   \n",
       "3590     1    2008  Alfredo Amezaga  FLA   30  125  311  337   82  61  ...   \n",
       "\n",
       "      HardHit  HardHit%  Events  CStr%   CSW%  xBA  xSLG  xwOBA  L-WAR  \\\n",
       "3762      NaN       NaN       0  0.188  0.256  NaN   NaN    NaN    1.1   \n",
       "2457      0.0       NaN       0  0.175  0.227  NaN   NaN    NaN    2.0   \n",
       "3590      0.0       NaN       0  0.178  0.244  NaN   NaN    NaN    1.2   \n",
       "\n",
       "      next_season_WAR  \n",
       "3762              2.0  \n",
       "2457              1.2  \n",
       "3590              NaN  \n",
       "\n",
       "[3 rows x 321 columns]"
      ]
     },
     "execution_count": 10,
     "metadata": {},
     "output_type": "execute_result"
    }
   ],
   "source": [
    "stats_DataFrame.head(3)"
   ]
  },
  {
   "cell_type": "code",
   "execution_count": 12,
   "metadata": {},
   "outputs": [],
   "source": [
    "null_values_count_series = stats_DataFrame.isnull().sum()\n",
    "full_columns_series = null_values_count_series[null_values_count_series == 0]\n",
    "stats_DataFrame = stats_DataFrame[list(full_columns_series.index) + ['next_season_WAR']].copy()"
   ]
  }
 ],
 "metadata": {
  "kernelspec": {
   "display_name": "Python 3",
   "language": "python",
   "name": "python3"
  },
  "language_info": {
   "codemirror_mode": {
    "name": "ipython",
    "version": 3
   },
   "file_extension": ".py",
   "mimetype": "text/x-python",
   "name": "python",
   "nbconvert_exporter": "python",
   "pygments_lexer": "ipython3",
   "version": "3.8.5"
  }
 },
 "nbformat": 4,
 "nbformat_minor": 4
}
