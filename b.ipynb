{
 "cells": [
  {
   "cell_type": "code",
   "execution_count": 1,
   "metadata": {},
   "outputs": [],
   "source": [
    "## 17 - August - 2023"
   ]
  },
  {
   "cell_type": "code",
   "execution_count": 2,
   "metadata": {},
   "outputs": [],
   "source": [
    "from sklearn.feature_selection import SequentialFeatureSelector\n",
    "from sklearn.linear_model import Ridge\n",
    "from sklearn.model_selection import TimeSeriesSplit\n",
    "from sklearn.preprocessing import MinMaxScaler\n",
    "import pandas as pd"
   ]
  },
  {
   "cell_type": "code",
   "execution_count": 3,
   "metadata": {},
   "outputs": [],
   "source": [
    "stats_DataFrame = pd.read_csv('../Data/stats_DataFrame_updated.csv')"
   ]
  },
  {
   "cell_type": "code",
   "execution_count": 4,
   "metadata": {},
   "outputs": [],
   "source": [
    "regression_instance = Ridge(alpha=1)\n",
    "split_instance = TimeSeriesSplit(n_splits=3)\n",
    "sequential_feature_selector_instance = SequentialFeatureSelector(regression_instance, n_features_to_select=20,\n",
    "                                                                 direction='forward', cv=split_instance, n_jobs=2)"
   ]
  },
  {
   "cell_type": "code",
   "execution_count": 5,
   "metadata": {},
   "outputs": [],
   "source": [
    "target_column = 'Next_season_WAR'\n",
    "text_columns = ['Name', 'Team']\n",
    "meta_data_columns = ['IDfg', 'Season']\n",
    "\n",
    "keeper_columns = stats_DataFrame.columns[~stats_DataFrame.columns.isin([target_column] + text_columns + meta_data_columns)]"
   ]
  },
  {
   "cell_type": "code",
   "execution_count": 6,
   "metadata": {},
   "outputs": [],
   "source": [
    "scaler_instance = MinMaxScaler()\n",
    "stats_DataFrame.loc[:, keeper_columns] = scaler_instance.fit_transform(stats_DataFrame[keeper_columns])"
   ]
  },
  {
   "cell_type": "code",
   "execution_count": 9,
   "metadata": {},
   "outputs": [
    {
     "data": {
      "text/plain": [
       "SequentialFeatureSelector(cv=TimeSeriesSplit(gap=0, max_train_size=None, n_splits=3, test_size=None),\n",
       "                          estimator=Ridge(alpha=1), n_features_to_select=20,\n",
       "                          n_jobs=2)"
      ]
     },
     "execution_count": 9,
     "metadata": {},
     "output_type": "execute_result"
    }
   ],
   "source": [
    "sequential_feature_selector_instance.fit(stats_DataFrame[keeper_columns], stats_DataFrame['Next_season_WAR'])"
   ]
  },
  {
   "cell_type": "code",
   "execution_count": 13,
   "metadata": {},
   "outputs": [],
   "source": [
    "optimal_features = list(keeper_columns[sequential_feature_selector_instance.get_support()])"
   ]
  },
  {
   "cell_type": "code",
   "execution_count": null,
   "metadata": {},
   "outputs": [],
   "source": [
    "def backtest(stats, model_instance, features, start=5, step=1):\n",
    "    hmm = []\n",
    "    seasons = sorted(stats['Season'].unique())\n",
    "    for iteration in range(start,len(seasons),step):\n",
    "        current_season = seasons[iteration]\n",
    "        training_data = stats[stats['Season'] < current_season]\n",
    "        testing_data = stats[stats['Season'] == current_season]\n",
    "        model_instance.fit(training_data[features], training_data['Next_season_WAR'])\n",
    "        model_instance.predict(testing_data[features])"
   ]
  }
 ],
 "metadata": {
  "kernelspec": {
   "display_name": "Python 3",
   "language": "python",
   "name": "python3"
  },
  "language_info": {
   "codemirror_mode": {
    "name": "ipython",
    "version": 3
   },
   "file_extension": ".py",
   "mimetype": "text/x-python",
   "name": "python",
   "nbconvert_exporter": "python",
   "pygments_lexer": "ipython3",
   "version": "3.8.5"
  }
 },
 "nbformat": 4,
 "nbformat_minor": 4
}
